{
 "cells": [
  {
   "cell_type": "markdown",
   "metadata": {
    "colab_type": "text",
    "id": "EMefrVPCg-60"
   },
   "source": [
    "### Importing the libraries"
   ]
  },
  {
   "cell_type": "code",
   "execution_count": 1,
   "metadata": {},
   "outputs": [],
   "source": [
    "import tensorflow as tf\n",
    "from keras.preprocessing.image import ImageDataGenerator"
   ]
  },
  {
   "cell_type": "code",
   "execution_count": 2,
   "metadata": {},
   "outputs": [
    {
     "data": {
      "text/plain": [
       "'2.12.0'"
      ]
     },
     "execution_count": 2,
     "metadata": {},
     "output_type": "execute_result"
    }
   ],
   "source": [
    "tf.__version__"
   ]
  },
  {
   "cell_type": "markdown",
   "metadata": {
    "colab_type": "text",
    "id": "oxQxCBWyoGPE"
   },
   "source": [
    "## Part 1 - Data Preprocessing"
   ]
  },
  {
   "cell_type": "markdown",
   "metadata": {
    "colab_type": "text",
    "id": "MvE-heJNo3GG"
   },
   "source": [
    "### Preprocessing the Training set"
   ]
  },
  {
   "cell_type": "markdown",
   "metadata": {},
   "source": [
    "##### Image preprocessing is an important step in CNN as it eliminates the problem of overfitting"
   ]
  },
  {
   "cell_type": "code",
   "execution_count": 4,
   "metadata": {},
   "outputs": [
    {
     "name": "stdout",
     "output_type": "stream",
     "text": [
      "Found 8000 images belonging to 2 classes.\n"
     ]
    }
   ],
   "source": [
    "train_datagen = ImageDataGenerator(rescale = 1/255,    ## feature scaling = dividing all pixels by highest pixel value (255)\n",
    "                                   shear_range = 0.2,\n",
    "                                   zoom_range = 0.2,\n",
    "                                   horizontal_flip = True)\n",
    "training_set = train_datagen.flow_from_directory('dataset/training_set',\n",
    "                                                 target_size = (64, 64),\n",
    "                                                 batch_size = 32,\n",
    "                                                 class_mode = 'binary')"
   ]
  },
  {
   "cell_type": "markdown",
   "metadata": {
    "colab_type": "text",
    "id": "mrCMmGw9pHys"
   },
   "source": [
    "### Preprocessing the Test set"
   ]
  },
  {
   "cell_type": "code",
   "execution_count": 5,
   "metadata": {},
   "outputs": [
    {
     "name": "stdout",
     "output_type": "stream",
     "text": [
      "Found 2000 images belonging to 2 classes.\n"
     ]
    }
   ],
   "source": [
    "test_datagen = ImageDataGenerator(rescale = 1./255)\n",
    "\n",
    "test_set = test_datagen.flow_from_directory('dataset/test_set',\n",
    "                                           target_size = (64,64),\n",
    "                                           batch_size = 32,\n",
    "                                           class_mode = 'binary')"
   ]
  },
  {
   "cell_type": "markdown",
   "metadata": {
    "colab_type": "text",
    "id": "af8O4l90gk7B"
   },
   "source": [
    "## Part 2 - Building the CNN"
   ]
  },
  {
   "cell_type": "markdown",
   "metadata": {
    "colab_type": "text",
    "id": "ces1gXY2lmoX"
   },
   "source": [
    "### Initialising the CNN"
   ]
  },
  {
   "cell_type": "code",
   "execution_count": 6,
   "metadata": {},
   "outputs": [],
   "source": [
    "cnn = tf.keras.Sequential()"
   ]
  },
  {
   "cell_type": "markdown",
   "metadata": {
    "colab_type": "text",
    "id": "u5YJj_XMl5LF"
   },
   "source": [
    "### Step 1 - Convolution"
   ]
  },
  {
   "cell_type": "code",
   "execution_count": 8,
   "metadata": {},
   "outputs": [],
   "source": [
    "cnn.add(tf.keras.layers.Conv2D(filters=32, kernel_size=3, activation='relu', input_shape=[64,64,3]))"
   ]
  },
  {
   "cell_type": "markdown",
   "metadata": {
    "colab_type": "text",
    "id": "tf87FpvxmNOJ"
   },
   "source": [
    "### Step 2 - Pooling"
   ]
  },
  {
   "cell_type": "code",
   "execution_count": 9,
   "metadata": {},
   "outputs": [],
   "source": [
    "cnn.add(tf.keras.layers.MaxPool2D(pool_size=2, strides=2))"
   ]
  },
  {
   "cell_type": "markdown",
   "metadata": {
    "colab_type": "text",
    "id": "xaTOgD8rm4mU"
   },
   "source": [
    "### Adding second convolutional and pooling layer"
   ]
  },
  {
   "cell_type": "code",
   "execution_count": 10,
   "metadata": {},
   "outputs": [],
   "source": [
    "cnn.add(tf.keras.layers.Conv2D(filters=32, kernel_size=3, activation='relu'))\n",
    "cnn.add(tf.keras.layers.MaxPool2D(pool_size=2, strides=2))"
   ]
  },
  {
   "cell_type": "markdown",
   "metadata": {
    "colab_type": "text",
    "id": "tmiEuvTunKfk"
   },
   "source": [
    "### Step 3 - Flattening"
   ]
  },
  {
   "cell_type": "code",
   "execution_count": 11,
   "metadata": {},
   "outputs": [],
   "source": [
    "cnn.add(tf.keras.layers.Flatten())"
   ]
  },
  {
   "cell_type": "markdown",
   "metadata": {
    "colab_type": "text",
    "id": "dAoSECOm203v"
   },
   "source": [
    "### Step 4 - Full Connection (adding a hidden layer)"
   ]
  },
  {
   "cell_type": "code",
   "execution_count": 12,
   "metadata": {},
   "outputs": [],
   "source": [
    "cnn.add(tf.keras.layers.Dense(units=128, activation='relu'))"
   ]
  },
  {
   "cell_type": "markdown",
   "metadata": {
    "colab_type": "text",
    "id": "yTldFvbX28Na"
   },
   "source": [
    "### Step 5 - Output Layer"
   ]
  },
  {
   "cell_type": "code",
   "execution_count": 13,
   "metadata": {},
   "outputs": [],
   "source": [
    "cnn.add(tf.keras.layers.Dense(units=1, activation='sigmoid'))"
   ]
  },
  {
   "cell_type": "markdown",
   "metadata": {
    "colab_type": "text",
    "id": "D6XkI90snSDl"
   },
   "source": [
    "## Part 3 - Training the CNN"
   ]
  },
  {
   "cell_type": "markdown",
   "metadata": {
    "colab_type": "text",
    "id": "vfrFQACEnc6i"
   },
   "source": [
    "### Compiling the CNN"
   ]
  },
  {
   "cell_type": "code",
   "execution_count": 14,
   "metadata": {},
   "outputs": [],
   "source": [
    "cnn.compile(optimizer='adam', loss='binary_crossentropy', metrics=['accuracy'])"
   ]
  },
  {
   "cell_type": "markdown",
   "metadata": {
    "colab_type": "text",
    "id": "ehS-v3MIpX2h"
   },
   "source": [
    "### Training the CNN on the Training set and evaluating it on the Test set"
   ]
  },
  {
   "cell_type": "code",
   "execution_count": 15,
   "metadata": {},
   "outputs": [
    {
     "name": "stdout",
     "output_type": "stream",
     "text": [
      "Epoch 1/30\n",
      "250/250 [==============================] - 80s 312ms/step - loss: 0.6586 - accuracy: 0.6034 - val_loss: 0.6013 - val_accuracy: 0.6865\n",
      "Epoch 2/30\n",
      "250/250 [==============================] - 64s 256ms/step - loss: 0.6008 - accuracy: 0.6776 - val_loss: 0.5430 - val_accuracy: 0.7325\n",
      "Epoch 3/30\n",
      "250/250 [==============================] - 64s 257ms/step - loss: 0.5577 - accuracy: 0.7088 - val_loss: 0.5117 - val_accuracy: 0.7530\n",
      "Epoch 4/30\n",
      "250/250 [==============================] - 65s 258ms/step - loss: 0.5259 - accuracy: 0.7418 - val_loss: 0.4923 - val_accuracy: 0.7625\n",
      "Epoch 5/30\n",
      "250/250 [==============================] - 65s 258ms/step - loss: 0.4940 - accuracy: 0.7591 - val_loss: 0.5042 - val_accuracy: 0.7570\n",
      "Epoch 6/30\n",
      "250/250 [==============================] - 66s 263ms/step - loss: 0.4738 - accuracy: 0.7736 - val_loss: 0.4774 - val_accuracy: 0.7865\n",
      "Epoch 7/30\n",
      "250/250 [==============================] - 64s 255ms/step - loss: 0.4710 - accuracy: 0.7736 - val_loss: 0.4933 - val_accuracy: 0.7720\n",
      "Epoch 8/30\n",
      "250/250 [==============================] - 33s 130ms/step - loss: 0.4594 - accuracy: 0.7763 - val_loss: 0.4654 - val_accuracy: 0.7865\n",
      "Epoch 9/30\n",
      "250/250 [==============================] - 31s 124ms/step - loss: 0.4404 - accuracy: 0.7919 - val_loss: 0.4596 - val_accuracy: 0.7910\n",
      "Epoch 10/30\n",
      "250/250 [==============================] - 31s 123ms/step - loss: 0.4269 - accuracy: 0.7964 - val_loss: 0.4429 - val_accuracy: 0.7995\n",
      "Epoch 11/30\n",
      "250/250 [==============================] - 31s 122ms/step - loss: 0.4130 - accuracy: 0.8043 - val_loss: 0.4487 - val_accuracy: 0.7990\n",
      "Epoch 12/30\n",
      "250/250 [==============================] - 31s 123ms/step - loss: 0.4076 - accuracy: 0.8112 - val_loss: 0.4343 - val_accuracy: 0.8090\n",
      "Epoch 13/30\n",
      "250/250 [==============================] - 31s 124ms/step - loss: 0.3968 - accuracy: 0.8152 - val_loss: 0.4508 - val_accuracy: 0.8015\n",
      "Epoch 14/30\n",
      "250/250 [==============================] - 31s 125ms/step - loss: 0.3870 - accuracy: 0.8238 - val_loss: 0.4308 - val_accuracy: 0.8050\n",
      "Epoch 15/30\n",
      "250/250 [==============================] - 31s 124ms/step - loss: 0.3795 - accuracy: 0.8266 - val_loss: 0.4441 - val_accuracy: 0.8035\n",
      "Epoch 16/30\n",
      "250/250 [==============================] - 31s 125ms/step - loss: 0.3621 - accuracy: 0.8396 - val_loss: 0.4376 - val_accuracy: 0.8055\n",
      "Epoch 17/30\n",
      "250/250 [==============================] - 31s 125ms/step - loss: 0.3504 - accuracy: 0.8430 - val_loss: 0.4522 - val_accuracy: 0.8010\n",
      "Epoch 18/30\n",
      "250/250 [==============================] - 31s 126ms/step - loss: 0.3437 - accuracy: 0.8514 - val_loss: 0.4341 - val_accuracy: 0.8065\n",
      "Epoch 19/30\n",
      "250/250 [==============================] - 31s 123ms/step - loss: 0.3373 - accuracy: 0.8558 - val_loss: 0.4458 - val_accuracy: 0.8160\n",
      "Epoch 20/30\n",
      "250/250 [==============================] - 30s 120ms/step - loss: 0.3173 - accuracy: 0.8615 - val_loss: 0.4419 - val_accuracy: 0.8160\n",
      "Epoch 21/30\n",
      "250/250 [==============================] - 30s 119ms/step - loss: 0.3138 - accuracy: 0.8611 - val_loss: 0.4761 - val_accuracy: 0.7925\n",
      "Epoch 22/30\n",
      "250/250 [==============================] - 34s 137ms/step - loss: 0.2927 - accuracy: 0.8724 - val_loss: 0.5140 - val_accuracy: 0.7915\n",
      "Epoch 23/30\n",
      "250/250 [==============================] - 48s 190ms/step - loss: 0.2867 - accuracy: 0.8773 - val_loss: 0.4817 - val_accuracy: 0.8115\n",
      "Epoch 24/30\n",
      "250/250 [==============================] - 34s 136ms/step - loss: 0.2752 - accuracy: 0.8823 - val_loss: 0.4934 - val_accuracy: 0.8040\n",
      "Epoch 25/30\n",
      "250/250 [==============================] - 33s 134ms/step - loss: 0.2721 - accuracy: 0.8834 - val_loss: 0.5074 - val_accuracy: 0.8010\n",
      "Epoch 26/30\n",
      "250/250 [==============================] - 34s 135ms/step - loss: 0.2599 - accuracy: 0.8906 - val_loss: 0.4896 - val_accuracy: 0.8195\n",
      "Epoch 27/30\n",
      "250/250 [==============================] - 35s 141ms/step - loss: 0.2445 - accuracy: 0.9004 - val_loss: 0.4943 - val_accuracy: 0.8130\n",
      "Epoch 28/30\n",
      "250/250 [==============================] - 34s 137ms/step - loss: 0.2455 - accuracy: 0.8969 - val_loss: 0.5005 - val_accuracy: 0.8095\n",
      "Epoch 29/30\n",
      "250/250 [==============================] - 35s 140ms/step - loss: 0.2242 - accuracy: 0.9074 - val_loss: 0.5136 - val_accuracy: 0.8110\n",
      "Epoch 30/30\n",
      "250/250 [==============================] - 34s 137ms/step - loss: 0.2200 - accuracy: 0.9110 - val_loss: 0.5393 - val_accuracy: 0.8145\n"
     ]
    },
    {
     "data": {
      "text/plain": [
       "<keras.callbacks.History at 0x268c2c300d0>"
      ]
     },
     "execution_count": 15,
     "metadata": {},
     "output_type": "execute_result"
    }
   ],
   "source": [
    "cnn.fit(x = training_set, validation_data = test_set, epochs=30)"
   ]
  },
  {
   "cell_type": "markdown",
   "metadata": {
    "colab_type": "text",
    "id": "U3PZasO0006Z"
   },
   "source": [
    "## Part 4 - Making a prediction"
   ]
  },
  {
   "cell_type": "code",
   "execution_count": 60,
   "metadata": {},
   "outputs": [
    {
     "name": "stdout",
     "output_type": "stream",
     "text": [
      "1/1 [==============================] - 0s 27ms/step\n"
     ]
    },
    {
     "data": {
      "text/plain": [
       "{'cats': 0, 'dogs': 1}"
      ]
     },
     "execution_count": 60,
     "metadata": {},
     "output_type": "execute_result"
    }
   ],
   "source": [
    "import numpy as np  \n",
    "from keras.utils import load_img, img_to_array  ## importing keras functions to load the image and convert it into array\n",
    "test_image = load_img('dataset/single_prediction/cat_or_dog_10.jpg', target_size = (64, 64))\n",
    "test_image = img_to_array(test_image)\n",
    "test_image = np.expand_dims(test_image, axis = 0)   ## to make it batchwise, because the image will be tested in batches not single\n",
    "result = cnn.predict(test_image/255)\n",
    "training_set.class_indices"
   ]
  },
  {
   "cell_type": "code",
   "execution_count": 61,
   "metadata": {},
   "outputs": [],
   "source": [
    "if result[0][0] > 0.5:   ## 1st index ([0]) is for batch and 2nd index ([0]) if for particular image in that batch\n",
    "  prediction = 'dog'\n",
    "else:\n",
    "  prediction = 'cat'"
   ]
  },
  {
   "cell_type": "code",
   "execution_count": 62,
   "metadata": {},
   "outputs": [
    {
     "name": "stdout",
     "output_type": "stream",
     "text": [
      "dog\n"
     ]
    }
   ],
   "source": [
    "print(prediction)"
   ]
  }
 ],
 "metadata": {
  "colab": {
   "collapsed_sections": [],
   "name": "convolutional_neural_network.ipynb",
   "provenance": [],
   "toc_visible": true
  },
  "kernelspec": {
   "display_name": "Python 3 (ipykernel)",
   "language": "python",
   "name": "python3"
  },
  "language_info": {
   "codemirror_mode": {
    "name": "ipython",
    "version": 3
   },
   "file_extension": ".py",
   "mimetype": "text/x-python",
   "name": "python",
   "nbconvert_exporter": "python",
   "pygments_lexer": "ipython3",
   "version": "3.10.9"
  }
 },
 "nbformat": 4,
 "nbformat_minor": 1
}
